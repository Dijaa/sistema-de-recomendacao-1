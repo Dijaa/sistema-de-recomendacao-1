{
 "cells": [
  {
   "cell_type": "markdown",
   "metadata": {},
   "source": [
    "# Sistema de Recomendação de Filmes\n",
    "\n",
    "Para construir um sistema de recomendação que recomenda filmes aos usuários com base em suas avaliações passadas e na similaridade entre usuários ou itens, você pode seguir os passos abaixo. Vamos usar os datasets `u.data`, `u.item` e `u.user` do MovieLens 100k."
   ]
  },
  {
   "cell_type": "markdown",
   "metadata": {},
   "source": [
    "## Passo 1: Carregar os Dados\n",
    "Primeiro, carregue os dados dos arquivos `u.data`, `u.item` e `u.user`:"
   ]
  },
  {
   "cell_type": "code",
   "execution_count": 21,
   "metadata": {},
   "outputs": [
    {
     "data": {
      "text/plain": [
       "(   user_id  item_id  rating  timestamp\n",
       " 0      196      242       3  881250949\n",
       " 1      186      302       3  891717742\n",
       " 2       22      377       1  878887116\n",
       " 3      244       51       2  880606923\n",
       " 4      166      346       1  886397596,\n",
       "    item_id              title\n",
       " 0        1   Toy Story (1995)\n",
       " 1        2   GoldenEye (1995)\n",
       " 2        3  Four Rooms (1995)\n",
       " 3        4  Get Shorty (1995)\n",
       " 4        5     Copycat (1995),\n",
       "    user_id  age gender  occupation zip_code\n",
       " 0        1   24      M  technician    85711\n",
       " 1        2   53      F       other    94043\n",
       " 2        3   23      M      writer    32067\n",
       " 3        4   24      M  technician    43537\n",
       " 4        5   33      F       other    15213)"
      ]
     },
     "execution_count": 21,
     "metadata": {},
     "output_type": "execute_result"
    }
   ],
   "source": [
    "import pandas as pd\n",
    "\n",
    "# Carregar os dados\n",
    "ratings = pd.read_csv('u.data', sep='\\t', names=['user_id', 'item_id', 'rating', 'timestamp'])\n",
    "movies = pd.read_csv('u.item', sep='|', names=['item_id', 'title'], usecols=[0, 1], encoding='latin-1')\n",
    "users = pd.read_csv('u.user', sep='|', names=['user_id', 'age', 'gender', 'occupation', 'zip_code'])\n",
    "\n",
    "# Exibir as primeiras linhas dos DataFrames\n",
    "ratings.head(), movies.head(), users.head()"
   ]
  },
  {
   "cell_type": "markdown",
   "metadata": {},
   "source": [
    "## Passo 2: Dividir os Dados\n",
    "Divida os dados em conjuntos de treinamento e teste:"
   ]
  },
  {
   "cell_type": "code",
   "execution_count": 22,
   "metadata": {},
   "outputs": [],
   "source": [
    "from sklearn.model_selection import train_test_split\n",
    "\n",
    "# Dividir os dados em 80% para treinamento e 20% para validação\n",
    "train_data, test_data = train_test_split(ratings, test_size=0.2, random_state=42)\n",
    "\n",
    "# Criar a matriz de usuário-item para o conjunto de treinamento\n",
    "train_matrix = train_data.pivot(index='user_id', columns='item_id', values='rating').fillna(0)\n",
    "test_matrix = test_data.pivot(index='user_id', columns='item_id', values='rating').fillna(0)"
   ]
  },
  {
   "cell_type": "markdown",
   "metadata": {},
   "source": [
    "## Passo 3: Calcular a Similaridade\n",
    "Calcule a similaridade entre os usuários:"
   ]
  },
  {
   "cell_type": "code",
   "execution_count": 23,
   "metadata": {},
   "outputs": [
    {
     "data": {
      "text/html": [
       "<div>\n",
       "<style scoped>\n",
       "    .dataframe tbody tr th:only-of-type {\n",
       "        vertical-align: middle;\n",
       "    }\n",
       "\n",
       "    .dataframe tbody tr th {\n",
       "        vertical-align: top;\n",
       "    }\n",
       "\n",
       "    .dataframe thead th {\n",
       "        text-align: right;\n",
       "    }\n",
       "</style>\n",
       "<table border=\"1\" class=\"dataframe\">\n",
       "  <thead>\n",
       "    <tr style=\"text-align: right;\">\n",
       "      <th>user_id</th>\n",
       "      <th>1</th>\n",
       "      <th>2</th>\n",
       "      <th>3</th>\n",
       "      <th>4</th>\n",
       "      <th>5</th>\n",
       "      <th>6</th>\n",
       "      <th>7</th>\n",
       "      <th>8</th>\n",
       "      <th>9</th>\n",
       "      <th>10</th>\n",
       "      <th>...</th>\n",
       "      <th>934</th>\n",
       "      <th>935</th>\n",
       "      <th>936</th>\n",
       "      <th>937</th>\n",
       "      <th>938</th>\n",
       "      <th>939</th>\n",
       "      <th>940</th>\n",
       "      <th>941</th>\n",
       "      <th>942</th>\n",
       "      <th>943</th>\n",
       "    </tr>\n",
       "    <tr>\n",
       "      <th>user_id</th>\n",
       "      <th></th>\n",
       "      <th></th>\n",
       "      <th></th>\n",
       "      <th></th>\n",
       "      <th></th>\n",
       "      <th></th>\n",
       "      <th></th>\n",
       "      <th></th>\n",
       "      <th></th>\n",
       "      <th></th>\n",
       "      <th></th>\n",
       "      <th></th>\n",
       "      <th></th>\n",
       "      <th></th>\n",
       "      <th></th>\n",
       "      <th></th>\n",
       "      <th></th>\n",
       "      <th></th>\n",
       "      <th></th>\n",
       "      <th></th>\n",
       "      <th></th>\n",
       "    </tr>\n",
       "  </thead>\n",
       "  <tbody>\n",
       "    <tr>\n",
       "      <th>1</th>\n",
       "      <td>1.000000</td>\n",
       "      <td>0.136196</td>\n",
       "      <td>0.030424</td>\n",
       "      <td>0.026203</td>\n",
       "      <td>0.284613</td>\n",
       "      <td>0.331412</td>\n",
       "      <td>0.319056</td>\n",
       "      <td>0.274139</td>\n",
       "      <td>0.083486</td>\n",
       "      <td>0.281396</td>\n",
       "      <td>...</td>\n",
       "      <td>0.277459</td>\n",
       "      <td>0.084849</td>\n",
       "      <td>0.205849</td>\n",
       "      <td>0.144161</td>\n",
       "      <td>0.133679</td>\n",
       "      <td>0.092367</td>\n",
       "      <td>0.216948</td>\n",
       "      <td>0.084181</td>\n",
       "      <td>0.104599</td>\n",
       "      <td>0.329288</td>\n",
       "    </tr>\n",
       "    <tr>\n",
       "      <th>2</th>\n",
       "      <td>0.136196</td>\n",
       "      <td>1.000000</td>\n",
       "      <td>0.114644</td>\n",
       "      <td>0.168220</td>\n",
       "      <td>0.093128</td>\n",
       "      <td>0.162165</td>\n",
       "      <td>0.095848</td>\n",
       "      <td>0.091360</td>\n",
       "      <td>0.149476</td>\n",
       "      <td>0.125701</td>\n",
       "      <td>...</td>\n",
       "      <td>0.149359</td>\n",
       "      <td>0.268977</td>\n",
       "      <td>0.320095</td>\n",
       "      <td>0.323347</td>\n",
       "      <td>0.241012</td>\n",
       "      <td>0.152655</td>\n",
       "      <td>0.230951</td>\n",
       "      <td>0.117484</td>\n",
       "      <td>0.166632</td>\n",
       "      <td>0.096719</td>\n",
       "    </tr>\n",
       "    <tr>\n",
       "      <th>3</th>\n",
       "      <td>0.030424</td>\n",
       "      <td>0.114644</td>\n",
       "      <td>1.000000</td>\n",
       "      <td>0.346894</td>\n",
       "      <td>0.000000</td>\n",
       "      <td>0.085071</td>\n",
       "      <td>0.032829</td>\n",
       "      <td>0.053875</td>\n",
       "      <td>0.060177</td>\n",
       "      <td>0.052552</td>\n",
       "      <td>...</td>\n",
       "      <td>0.021713</td>\n",
       "      <td>0.017707</td>\n",
       "      <td>0.154299</td>\n",
       "      <td>0.049358</td>\n",
       "      <td>0.107604</td>\n",
       "      <td>0.019022</td>\n",
       "      <td>0.101207</td>\n",
       "      <td>0.021959</td>\n",
       "      <td>0.127179</td>\n",
       "      <td>0.013805</td>\n",
       "    </tr>\n",
       "    <tr>\n",
       "      <th>4</th>\n",
       "      <td>0.026203</td>\n",
       "      <td>0.168220</td>\n",
       "      <td>0.346894</td>\n",
       "      <td>1.000000</td>\n",
       "      <td>0.011848</td>\n",
       "      <td>0.051287</td>\n",
       "      <td>0.075209</td>\n",
       "      <td>0.142100</td>\n",
       "      <td>0.060465</td>\n",
       "      <td>0.035202</td>\n",
       "      <td>...</td>\n",
       "      <td>0.034908</td>\n",
       "      <td>0.044480</td>\n",
       "      <td>0.087428</td>\n",
       "      <td>0.118082</td>\n",
       "      <td>0.100612</td>\n",
       "      <td>0.000000</td>\n",
       "      <td>0.151086</td>\n",
       "      <td>0.110324</td>\n",
       "      <td>0.112342</td>\n",
       "      <td>0.032367</td>\n",
       "    </tr>\n",
       "    <tr>\n",
       "      <th>5</th>\n",
       "      <td>0.284613</td>\n",
       "      <td>0.093128</td>\n",
       "      <td>0.000000</td>\n",
       "      <td>0.011848</td>\n",
       "      <td>1.000000</td>\n",
       "      <td>0.168527</td>\n",
       "      <td>0.298438</td>\n",
       "      <td>0.185290</td>\n",
       "      <td>0.039737</td>\n",
       "      <td>0.166013</td>\n",
       "      <td>...</td>\n",
       "      <td>0.276012</td>\n",
       "      <td>0.103529</td>\n",
       "      <td>0.085547</td>\n",
       "      <td>0.072429</td>\n",
       "      <td>0.104445</td>\n",
       "      <td>0.049198</td>\n",
       "      <td>0.204472</td>\n",
       "      <td>0.148028</td>\n",
       "      <td>0.099978</td>\n",
       "      <td>0.247527</td>\n",
       "    </tr>\n",
       "  </tbody>\n",
       "</table>\n",
       "<p>5 rows × 943 columns</p>\n",
       "</div>"
      ],
      "text/plain": [
       "user_id       1         2         3         4         5         6         7    \\\n",
       "user_id                                                                         \n",
       "1        1.000000  0.136196  0.030424  0.026203  0.284613  0.331412  0.319056   \n",
       "2        0.136196  1.000000  0.114644  0.168220  0.093128  0.162165  0.095848   \n",
       "3        0.030424  0.114644  1.000000  0.346894  0.000000  0.085071  0.032829   \n",
       "4        0.026203  0.168220  0.346894  1.000000  0.011848  0.051287  0.075209   \n",
       "5        0.284613  0.093128  0.000000  0.011848  1.000000  0.168527  0.298438   \n",
       "\n",
       "user_id       8         9         10   ...       934       935       936  \\\n",
       "user_id                                ...                                 \n",
       "1        0.274139  0.083486  0.281396  ...  0.277459  0.084849  0.205849   \n",
       "2        0.091360  0.149476  0.125701  ...  0.149359  0.268977  0.320095   \n",
       "3        0.053875  0.060177  0.052552  ...  0.021713  0.017707  0.154299   \n",
       "4        0.142100  0.060465  0.035202  ...  0.034908  0.044480  0.087428   \n",
       "5        0.185290  0.039737  0.166013  ...  0.276012  0.103529  0.085547   \n",
       "\n",
       "user_id       937       938       939       940       941       942       943  \n",
       "user_id                                                                        \n",
       "1        0.144161  0.133679  0.092367  0.216948  0.084181  0.104599  0.329288  \n",
       "2        0.323347  0.241012  0.152655  0.230951  0.117484  0.166632  0.096719  \n",
       "3        0.049358  0.107604  0.019022  0.101207  0.021959  0.127179  0.013805  \n",
       "4        0.118082  0.100612  0.000000  0.151086  0.110324  0.112342  0.032367  \n",
       "5        0.072429  0.104445  0.049198  0.204472  0.148028  0.099978  0.247527  \n",
       "\n",
       "[5 rows x 943 columns]"
      ]
     },
     "execution_count": 23,
     "metadata": {},
     "output_type": "execute_result"
    }
   ],
   "source": [
    "from sklearn.metrics.pairwise import cosine_similarity\n",
    "\n",
    "# Calcular a similaridade do cosseno entre os usuários\n",
    "user_similarity = cosine_similarity(train_matrix)\n",
    "user_similarity_df = pd.DataFrame(user_similarity, index=train_matrix.index, columns=train_matrix.index)\n",
    "user_similarity_df.head()"
   ]
  },
  {
   "cell_type": "markdown",
   "metadata": {},
   "source": [
    "## Passo 4: Prever as Avaliações\n",
    "Crie uma função para prever a nota de um usuário para um item:"
   ]
  },
  {
   "cell_type": "code",
   "execution_count": 24,
   "metadata": {},
   "outputs": [],
   "source": [
    "def predict_rating(user_id, item_id, train_matrix, user_similarity_df):\n",
    "    # Obter a similaridade do usuário com todos os outros usuários\n",
    "    user_similarities = user_similarity_df.loc[user_id]\n",
    "    \n",
    "    # Obter as notas dos outros usuários para o item\n",
    "    item_ratings = train_matrix[item_id]\n",
    "    \n",
    "    # Calcular a nota prevista como a média ponderada das notas dos outros usuários\n",
    "    weighted_sum = (user_similarities * item_ratings).sum()\n",
    "    similarity_sum = user_similarities[item_ratings > 0].sum()\n",
    "    \n",
    "    if similarity_sum == 0:\n",
    "        return 0  # Evitar divisão por zero\n",
    "    \n",
    "    predicted_rating = weighted_sum / similarity_sum\n",
    "    return predicted_rating\n",
    "\n",
    "# Ensure user_id and item_id are present in train_matrix and user_similarity_df\n",
    "test_data = test_data[test_data['user_id'].isin(train_matrix.index) & test_data['item_id'].isin(train_matrix.columns)]\n",
    "\n",
    "# Prever as notas para o conjunto de validação\n",
    "test_data['predicted_rating'] = test_data.apply(lambda row: predict_rating(row['user_id'], row['item_id'], train_matrix, user_similarity_df), axis=1)"
   ]
  },
  {
   "cell_type": "markdown",
   "metadata": {},
   "source": [
    "## Passo 5: Avaliar o Modelo\n",
    "Calcule o RMSE para avaliar o modelo:"
   ]
  },
  {
   "cell_type": "code",
   "execution_count": 25,
   "metadata": {},
   "outputs": [
    {
     "name": "stdout",
     "output_type": "stream",
     "text": [
      "RMSE: 1.0145531777915653\n"
     ]
    }
   ],
   "source": [
    "import numpy as np\n",
    "from sklearn.metrics import mean_squared_error\n",
    "\n",
    "# Calcular o RMSE\n",
    "rmse = np.sqrt(mean_squared_error(test_data['rating'], test_data['predicted_rating']))\n",
    "print(f'RMSE: {rmse}')"
   ]
  },
  {
   "cell_type": "markdown",
   "metadata": {},
   "source": [
    "## Passo 6: Recomendação de Filmes\n",
    "Crie uma função para recomendar filmes:"
   ]
  },
  {
   "cell_type": "code",
   "execution_count": 27,
   "metadata": {},
   "outputs": [
    {
     "name": "stdout",
     "output_type": "stream",
     "text": [
      "Recomendações para o usuário 1:\n",
      "   item_id  predicted_rating                                 title\n",
      "0     1189               5.0                    Prefontaine (1997)\n",
      "1     1500               5.0             Santa with Muscles (1996)\n",
      "2     1612               5.0               Leading Man, The (1996)\n",
      "3     1467               5.0  Saint of Fort Washington, The (1993)\n",
      "4      850               5.0           Perfect Candidate, A (1996)\n"
     ]
    }
   ],
   "source": [
    "def recomendar(user_id, train_matrix, user_similarity_df, movies, n_recommendations=5):\n",
    "    # Obter todos os itens\n",
    "    all_items = train_matrix.columns\n",
    "    \n",
    "    # Prever a nota para todos os itens\n",
    "    predictions = [predict_rating(user_id, item_id, train_matrix, user_similarity_df) for item_id in all_items]\n",
    "    \n",
    "    # Criar um DataFrame com as previsões\n",
    "    predictions_df = pd.DataFrame({'item_id': all_items, 'predicted_rating': predictions})\n",
    "    \n",
    "    # Ordenar as previsões por nota\n",
    "    predictions_df = predictions_df.sort_values(by='predicted_rating', ascending=False)\n",
    "    \n",
    "    # Obter os top N itens recomendados\n",
    "    top_recommendations = predictions_df.head(n_recommendations)\n",
    "    \n",
    "    # Adicionar os títulos dos filmes\n",
    "    top_recommendations = top_recommendations.merge(movies, on='item_id')\n",
    "    \n",
    "    return top_recommendations\n",
    "\n",
    "# Exemplo de recomendação para um usuário específico\n",
    "user_id = 1\n",
    "recommendations = recomendar(user_id, train_matrix, user_similarity_df, movies)\n",
    "print(f'Recomendações para o usuário {user_id}:')\n",
    "print(recommendations)"
   ]
  },
  {
   "cell_type": "markdown",
   "metadata": {},
   "source": [
    "## Conclusão\n",
    "Este é um exemplo básico de como construir um sistema de recomendação baseado na similaridade entre usuários usando o dataset MovieLens 100k. Você pode aprimorar o modelo ajustando os hiperparâmetros, experimentando diferentes técnicas de similaridade e incorporando mais informações dos datasets."
   ]
  }
 ],
 "metadata": {
  "kernelspec": {
   "display_name": "Python 3",
   "language": "python",
   "name": "python3"
  },
  "language_info": {
   "codemirror_mode": {
    "name": "ipython",
    "version": 3
   },
   "file_extension": ".py",
   "mimetype": "text/x-python",
   "name": "python",
   "nbconvert_exporter": "python",
   "pygments_lexer": "ipython3",
   "version": "3.12.1"
  }
 },
 "nbformat": 4,
 "nbformat_minor": 5
}
