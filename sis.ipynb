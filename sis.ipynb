{
  "nbformat": 4,
  "nbformat_minor": 0,
  "metadata": {
    "colab": {
      "provenance": []
    },
    "kernelspec": {
      "name": "python3",
      "display_name": "Python 3"
    },
    "language_info": {
      "name": "python"
    }
  },
  "cells": [
    {
      "cell_type": "markdown",
      "source": [],
      "metadata": {
        "id": "oPtTVEdMObbb"
      }
    },
    {
      "cell_type": "code",
      "execution_count": 1,
      "metadata": {
        "id": "mMfr9JjhOZxD"
      },
      "outputs": [],
      "source": [
        "import numpy as np\n",
        "from sklearn.metrics.pairwise import cosine_similarity\n",
        "\n",
        "# @title Texto de título padrão\n",
        "filmes = {\n",
        "  \"Filme1\": [1, 0, 0, 0, 0, 0],\n",
        "  \"Filme2\": [0, 0, 0, 1, 0, 1],\n",
        "  \"Filme3\": [0, 1, 0, 0, 0, 0],\n",
        "  \"Filme4\": [0, 0, 1, 0, 0, 1],\n",
        "  \"Filme5\": [1, 0, 1, 0, 0, 1]\n",
        "}\n",
        "\n",
        "filmesAssistidos = [\"Filme2\", \"Filme5\"]\n",
        "\n"
      ]
    },
    {
      "cell_type": "code",
      "source": [
        "filmes_assistidos = [\"Filme2\", \"Filme5\"]\n",
        "\n",
        "perfil_usuario = np.array([1, 0, 1, 1, 0, 2])"
      ],
      "metadata": {
        "id": "3oPFWdAOPN1V"
      },
      "execution_count": 2,
      "outputs": []
    },
    {
      "cell_type": "code",
      "source": [
        "similaridades = {}\n",
        "\n",
        "for filme, vetor in filmes.items():\n",
        "  similaridade = cosine_similarity([perfil_usuario], [vetor])[0][0]\n",
        "  similaridades[filme] = similaridade"
      ],
      "metadata": {
        "id": "3nWVUMzlP1_r"
      },
      "execution_count": 3,
      "outputs": []
    },
    {
      "cell_type": "code",
      "source": [
        "print(similaridades)\n",
        "print(similaridades[\"Filme1\"])"
      ],
      "metadata": {
        "colab": {
          "base_uri": "https://localhost:8080/"
        },
        "id": "TAaSFN4_RCYe",
        "outputId": "ca383912-b3d4-48cc-ead2-e5aeff6f3c43"
      },
      "execution_count": 4,
      "outputs": [
        {
          "output_type": "stream",
          "name": "stdout",
          "text": [
            "{'Filme1': 0.3779644730092272, 'Filme2': 0.8017837257372731, 'Filme3': 0.0, 'Filme4': 0.8017837257372731, 'Filme5': 0.8728715609439696}\n",
            "0.3779644730092272\n"
          ]
        }
      ]
    },
    {
      "cell_type": "code",
      "source": [
        "recomendacoes = sorted(similaridades.items(), key=lambda x: x[1], reverse=True)\n"
      ],
      "metadata": {
        "id": "Ft1ATLbASAgY"
      },
      "execution_count": 5,
      "outputs": []
    },
    {
      "cell_type": "code",
      "source": [
        "print(recomendacoes)\n",
        "for filme, similaridade in recomendacoes:\n",
        "  if filme not in filmes_assistidos:\n",
        "    print(f\"{filmes}: Similaridade {similaridade:.4f}\")"
      ],
      "metadata": {
        "colab": {
          "base_uri": "https://localhost:8080/"
        },
        "id": "eO5onOqFS-lz",
        "outputId": "b4afbddb-8cd2-4745-cfd2-c74d43e97b7c"
      },
      "execution_count": 6,
      "outputs": [
        {
          "output_type": "stream",
          "name": "stdout",
          "text": [
            "[('Filme5', 0.8728715609439696), ('Filme2', 0.8017837257372731), ('Filme4', 0.8017837257372731), ('Filme1', 0.3779644730092272), ('Filme3', 0.0)]\n",
            "{'Filme1': [1, 0, 0, 0, 0, 0], 'Filme2': [0, 0, 0, 1, 0, 1], 'Filme3': [0, 1, 0, 0, 0, 0], 'Filme4': [0, 0, 1, 0, 0, 1], 'Filme5': [1, 0, 1, 0, 0, 1]}: Similaridade 0.8018\n",
            "{'Filme1': [1, 0, 0, 0, 0, 0], 'Filme2': [0, 0, 0, 1, 0, 1], 'Filme3': [0, 1, 0, 0, 0, 0], 'Filme4': [0, 0, 1, 0, 0, 1], 'Filme5': [1, 0, 1, 0, 0, 1]}: Similaridade 0.3780\n",
            "{'Filme1': [1, 0, 0, 0, 0, 0], 'Filme2': [0, 0, 0, 1, 0, 1], 'Filme3': [0, 1, 0, 0, 0, 0], 'Filme4': [0, 0, 1, 0, 0, 1], 'Filme5': [1, 0, 1, 0, 0, 1]}: Similaridade 0.0000\n"
          ]
        }
      ]
    }
  ]
}