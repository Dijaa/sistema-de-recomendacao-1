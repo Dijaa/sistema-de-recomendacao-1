{
  "cells": [
    {
      "cell_type": "markdown",
      "metadata": {
        "id": "i1bCguiVd-72"
      },
      "source": [
        "### Instalação e importação das bibliotecas"
      ]
    },
    {
      "cell_type": "code",
      "execution_count": 122,
      "metadata": {
        "colab": {
          "base_uri": "https://localhost:8080/"
        },
        "id": "OEXRFxHwO90j",
        "outputId": "2fbc78bb-28eb-41df-95d4-bf737cb8beab"
      },
      "outputs": [
        {
          "name": "stdout",
          "output_type": "stream",
          "text": [
            "Requirement already satisfied: scikit-learn in /home/codespace/.local/lib/python3.12/site-packages (1.5.2)\n",
            "Requirement already satisfied: nltk in /home/codespace/.python/current/lib/python3.12/site-packages (3.9.1)\n",
            "Requirement already satisfied: numpy>=1.19.5 in /home/codespace/.local/lib/python3.12/site-packages (from scikit-learn) (2.1.1)\n",
            "Requirement already satisfied: scipy>=1.6.0 in /home/codespace/.local/lib/python3.12/site-packages (from scikit-learn) (1.14.1)\n",
            "Requirement already satisfied: joblib>=1.2.0 in /home/codespace/.local/lib/python3.12/site-packages (from scikit-learn) (1.4.2)\n",
            "Requirement already satisfied: threadpoolctl>=3.1.0 in /home/codespace/.local/lib/python3.12/site-packages (from scikit-learn) (3.5.0)\n",
            "Requirement already satisfied: click in /home/codespace/.python/current/lib/python3.12/site-packages (from nltk) (8.1.7)\n",
            "Requirement already satisfied: regex>=2021.8.3 in /home/codespace/.python/current/lib/python3.12/site-packages (from nltk) (2024.9.11)\n",
            "Requirement already satisfied: tqdm in /home/codespace/.python/current/lib/python3.12/site-packages (from nltk) (4.66.5)\n",
            "Note: you may need to restart the kernel to use updated packages.\n"
          ]
        }
      ],
      "source": [
        "pip install scikit-learn nltk\n"
      ]
    },
    {
      "cell_type": "code",
      "execution_count": 123,
      "metadata": {
        "id": "mTQAxivuPXaq"
      },
      "outputs": [],
      "source": [
        "import nltk\n",
        "from sklearn.feature_extraction.text import CountVectorizer\n",
        "from nltk.corpus import stopwords\n",
        "import re\n"
      ]
    },
    {
      "cell_type": "markdown",
      "metadata": {
        "id": "ZPrtJzCFeHgx"
      },
      "source": [
        "### Definição de stopwords\n",
        "\n"
      ]
    },
    {
      "cell_type": "code",
      "execution_count": 124,
      "metadata": {
        "colab": {
          "base_uri": "https://localhost:8080/"
        },
        "id": "Do9lm8mhRFqz",
        "outputId": "0b78ee65-3277-4bea-9622-cd0af1db8057"
      },
      "outputs": [
        {
          "name": "stderr",
          "output_type": "stream",
          "text": [
            "[nltk_data] Downloading package stopwords to\n",
            "[nltk_data]     /home/codespace/nltk_data...\n",
            "[nltk_data]   Package stopwords is already up-to-date!\n"
          ]
        }
      ],
      "source": [
        "nltk.download('stopwords')\n",
        "stop_words = stopwords.words('portuguese')"
      ]
    },
    {
      "cell_type": "markdown",
      "metadata": {
        "id": "5yNRXg4ieT8Z"
      },
      "source": [
        "### Dataset"
      ]
    },
    {
      "cell_type": "code",
      "execution_count": 125,
      "metadata": {
        "id": "U1cFBftBXT_L"
      },
      "outputs": [],
      "source": [
        "filmes = {\n",
        "    \"Matrix\": {\n",
        "        \"Gêneros\": [\"Ação\", \"Ficção\"],\n",
        "        \"Diretor\": \"Lana Wachowski\",\n",
        "        \"Resumo\": \"O jovem programador Thomas Anderson é atormentado por estranhos pesadelos em que está sempre conectado por cabos a um imenso sistema de computadores do futuro.\"\n",
        "    },\n",
        "    \"Titanic\": {\n",
        "        \"Gêneros\": [\"Drama\"],\n",
        "        \"Diretor\": \"James Cameron\",\n",
        "        \"Resumo\": \"Um artista pobre e uma jovem rica se conhecem e se apaixonam na fatídica viagem inaugural do Titanic em 1912. Embora esteja noiva do arrogante herdeiro de uma siderúrgica, a jovem desafia sua família e amigos em busca do verdadeiro amor.\"\n",
        "    },\n",
        "    \"Top Gun\": {\n",
        "        \"Gêneros\": [\"Ação\", \"Comédia\"],\n",
        "        \"Diretores\": [\"Tony Scott\", \"Joseph Kosinski\"],\n",
        "        \"Resumo\": \"Top Gun retrata a vida do Capitão da Marinha norte-americana que tem como objetivo treinar jovens pilotos para uma missão que é mortal e envolve muito sacrifício, trabalho em equipe e resiliência. O filme é repleto de efeitos visuais e de voos cheios de acrobacias aéreas realizadas no F-18, da Marinha dos EUA.\"\n",
        "    },\n",
        "    \"Se beber não case\": {\n",
        "        \"Gêneros\": [\"Comédia\"],\n",
        "        \"Diretor\": \"Todd Phillips\",\n",
        "        \"Resumo\": \"Doug Billings está prestes a se casar. Stu Price é um dentista que planeja pedir a namorada em casamento. Phil Wenneck é um professor colegial entediado com o matrimônio. Alan Garner é seu cunhado, que não tem qualquer responsabilidade e gosta de se embebedar. Juntos, eles viajam para Las Vegas para uma despedida de solteiro.\"\n",
        "    },\n",
        "    \"A procura da felicidade\":{\n",
        "        \"Gêneros\": [\"Drama\"],\n",
        "        \"Diretor\": \"Gabriele Muccino\",\n",
        "        \"Resumo\": \"Chris Gardner é um pai de família que enfrenta sérios problemas financeiros. Apesar de todas as tentativas em manter a família unida, Linda, sua esposa, decide partir. Chris agora é pai solteiro e precisa cuidar de Christopher, seu filho de apenas 5 anos. Ele tenta usar sua habilidade como vendedor para conseguir um emprego melhor, mas não consegue vaga em nenhuma empresa.\"\n",
        "    }\n",
        "}\n",
        "\n",
        "# filmes = {\n",
        "#     \"Matrix\": {\n",
        "#         \"Gêneros\": [\"Ação\", \"Ficção Científica\", \"Cyberpunk\"],\n",
        "#         \"Diretor\": [\"Lana Wachowski\", \"Lilly Wachowski\"],\n",
        "#         \"Resumo\": \"Um hacker descobre que o mundo em que vive é uma simulação e luta contra uma inteligência artificial opressora.\"\n",
        "#     },\n",
        "#     \"Titanic\": {\n",
        "#         \"Gêneros\": [\"Drama\", \"Romance\", \"Histórico\"],\n",
        "#         \"Diretor\": [\"James Cameron\"],\n",
        "#         \"Resumo\": \"Um romance proibido se desenrola durante a fatídica viagem do Titanic, desafiando convenções sociais e diferenças de classe.\"\n",
        "#     },\n",
        "#     \"Top Gun\": {\n",
        "#         \"Gêneros\": [\"Ação\", \"Aventura\", \"Drama Militar\"],\n",
        "#         \"Diretores\": [\"Tony Scott\", \"Joseph Kosinski\"],\n",
        "#         \"Resumo\": \"Pilotos da Marinha dos EUA enfrentam desafios mortais e testam suas habilidades em uma missão perigosa.\"\n",
        "#     },\n",
        "#     \"Se beber não case\": {\n",
        "#         \"Gêneros\": [\"Comédia\", \"Aventura\"],\n",
        "#         \"Diretor\": [\"Todd Phillips\"],\n",
        "#         \"Resumo\": \"Quatro amigos viajam a Las Vegas para uma despedida de solteiro e acordam sem memória da noite anterior, tentando juntar as peças de sua noite caótica.\"\n",
        "#     },\n",
        "#     \"A procura da felicidade\": {\n",
        "#         \"Gêneros\": [\"Drama\", \"Biográfico\", \"Motivacional\"],\n",
        "#         \"Diretor\": [\"Gabriele Muccino\"],\n",
        "#         \"Resumo\": \"Um pai solteiro luta para sobreviver financeiramente e criar seu filho, enquanto tenta alcançar uma vida melhor.\"\n",
        "#     }\n",
        "# }\n",
        "\n",
        "\n"
      ]
    },
    {
      "cell_type": "markdown",
      "metadata": {
        "id": "LJf8hnwveZSR"
      },
      "source": [
        "### Construção BoW"
      ]
    },
    {
      "cell_type": "code",
      "execution_count": 126,
      "metadata": {
        "id": "AvU7kRfl63in"
      },
      "outputs": [],
      "source": [
        "def remover_pontuacao(texto):\n",
        "    texto = re.sub(r'[^\\w\\s]', '', texto)\n",
        "    texto = re.sub(r'\\d+', '', texto)\n",
        "    return texto\n",
        "\n"
      ]
    },
    {
      "cell_type": "code",
      "execution_count": 127,
      "metadata": {
        "id": "uCOmqM9tYQXB"
      },
      "outputs": [],
      "source": [
        "def combinar_dados(filmes):\n",
        "    texto = []\n",
        "    titulos = []\n",
        "\n",
        "    for titulo, atributos in filmes.items():\n",
        "        generos = \" \".join(atributos.get(\"Gêneros\", []))\n",
        "        diretor = \" \".join(atributos.get(\"Diretores\", atributos.get(\"Diretor\", \"\")))\n",
        "        resumo = atributos.get(\"Resumo\", \"\")\n",
        "\n",
        "        generos = remover_pontuacao(generos)\n",
        "        diretor = remover_pontuacao(diretor)\n",
        "        resumo = remover_pontuacao(resumo)\n",
        "\n",
        "        combinado = f\"{generos} {diretor} {resumo}\"\n",
        "        texto.append(combinado)\n",
        "        titulos.append(titulo)\n",
        "\n",
        "    return texto, titulos\n",
        "\n",
        "dados_combinados, titulos = combinar_dados(filmes)\n",
        "\n"
      ]
    },
    {
      "cell_type": "markdown",
      "metadata": {
        "id": "Tyxexptweztw"
      },
      "source": [
        "###  Vetorização"
      ]
    },
    {
      "cell_type": "code",
      "execution_count": 128,
      "metadata": {
        "id": "jZHY6UxjY58A"
      },
      "outputs": [
        {
          "name": "stdout",
          "output_type": "stream",
          "text": [
            "\n",
            "Matriz Bag of Words:\n",
            "[[0.         0.         0.         0.         0.         0.25563969\n",
            "  0.         0.         0.         0.         0.         0.\n",
            "  0.25563969 0.20624849 0.         0.         0.         0.25563969\n",
            "  0.         0.         0.         0.         0.         0.\n",
            "  0.         0.25563969 0.         0.25563969 0.         0.\n",
            "  0.         0.         0.         0.         0.         0.\n",
            "  0.         0.         0.         0.         0.         0.\n",
            "  0.         0.         0.         0.         0.         0.\n",
            "  0.         0.25563969 0.         0.         0.         0.25563969\n",
            "  0.         0.         0.         0.25563969 0.         0.\n",
            "  0.         0.         0.         0.         0.25563969 0.\n",
            "  0.         0.20624849 0.         0.         0.         0.\n",
            "  0.         0.         0.         0.         0.         0.\n",
            "  0.         0.         0.         0.         0.         0.\n",
            "  0.         0.         0.         0.25563969 0.         0.\n",
            "  0.         0.         0.         0.         0.         0.\n",
            "  0.         0.25563969 0.         0.         0.         0.\n",
            "  0.         0.         0.         0.         0.         0.25563969\n",
            "  0.         0.25563969 0.         0.         0.         0.\n",
            "  0.         0.25563969 0.         0.         0.         0.\n",
            "  0.         0.         0.         0.         0.         0.\n",
            "  0.         0.         0.         0.         0.         0.\n",
            "  0.         0.        ]\n",
            " [0.         0.         0.         0.20894412 0.20894412 0.\n",
            "  0.         0.20894412 0.         0.         0.20894412 0.20894412\n",
            "  0.         0.         0.         0.         0.20894412 0.\n",
            "  0.         0.         0.         0.         0.         0.\n",
            "  0.         0.         0.         0.         0.20894412 0.\n",
            "  0.         0.         0.         0.         0.         0.20894412\n",
            "  0.         0.         0.1685748  0.         0.         0.20894412\n",
            "  0.         0.         0.         0.         0.         0.\n",
            "  0.         0.         0.         0.1685748  0.20894412 0.\n",
            "  0.         0.         0.         0.         0.         0.\n",
            "  0.         0.         0.         0.20894412 0.         0.20894412\n",
            "  0.         0.33714959 0.         0.         0.         0.\n",
            "  0.         0.         0.         0.         0.         0.\n",
            "  0.         0.         0.         0.20894412 0.         0.\n",
            "  0.         0.         0.         0.         0.         0.\n",
            "  0.         0.20894412 0.         0.         0.         0.\n",
            "  0.         0.         0.         0.         0.         0.\n",
            "  0.         0.         0.20894412 0.         0.         0.\n",
            "  0.20894412 0.         0.         0.         0.         0.\n",
            "  0.         0.         0.20894412 0.         0.         0.\n",
            "  0.         0.         0.         0.         0.         0.\n",
            "  0.         0.20894412 0.20894412 0.         0.         0.\n",
            "  0.         0.        ]\n",
            " [0.16597234 0.         0.         0.         0.         0.\n",
            "  0.         0.         0.         0.         0.         0.\n",
            "  0.         0.13390544 0.16597234 0.         0.         0.\n",
            "  0.16597234 0.         0.         0.16597234 0.         0.\n",
            "  0.         0.         0.13390544 0.         0.         0.\n",
            "  0.         0.         0.         0.         0.         0.\n",
            "  0.         0.         0.         0.16597234 0.         0.\n",
            "  0.         0.         0.         0.         0.16597234 0.16597234\n",
            "  0.         0.         0.16597234 0.         0.         0.\n",
            "  0.         0.16597234 0.         0.         0.         0.\n",
            "  0.         0.16597234 0.         0.         0.         0.\n",
            "  0.16597234 0.         0.16597234 0.         0.16597234 0.\n",
            "  0.         0.         0.33194469 0.         0.         0.16597234\n",
            "  0.16597234 0.         0.         0.         0.16597234 0.16597234\n",
            "  0.         0.         0.         0.         0.         0.16597234\n",
            "  0.         0.         0.         0.         0.         0.\n",
            "  0.         0.         0.         0.16597234 0.16597234 0.16597234\n",
            "  0.         0.16597234 0.         0.16597234 0.16597234 0.\n",
            "  0.         0.         0.         0.         0.         0.\n",
            "  0.         0.         0.         0.         0.16597234 0.16597234\n",
            "  0.16597234 0.16597234 0.         0.         0.         0.\n",
            "  0.         0.         0.         0.         0.16597234 0.16597234\n",
            "  0.16597234 0.        ]\n",
            " [0.         0.         0.18166261 0.         0.         0.\n",
            "  0.         0.         0.         0.         0.         0.\n",
            "  0.         0.         0.         0.18166261 0.         0.\n",
            "  0.         0.18166261 0.18166261 0.         0.         0.\n",
            "  0.18166261 0.         0.14656425 0.         0.         0.\n",
            "  0.         0.         0.18166261 0.         0.18166261 0.\n",
            "  0.18166261 0.18166261 0.         0.         0.18166261 0.\n",
            "  0.         0.         0.         0.18166261 0.         0.\n",
            "  0.         0.         0.         0.         0.         0.\n",
            "  0.         0.         0.         0.         0.         0.18166261\n",
            "  0.18166261 0.         0.         0.         0.         0.\n",
            "  0.         0.         0.         0.18166261 0.         0.18166261\n",
            "  0.         0.         0.         0.18166261 0.         0.\n",
            "  0.         0.18166261 0.         0.         0.         0.\n",
            "  0.         0.         0.18166261 0.         0.18166261 0.\n",
            "  0.18166261 0.         0.         0.18166261 0.18166261 0.\n",
            "  0.18166261 0.         0.18166261 0.         0.         0.\n",
            "  0.18166261 0.         0.         0.         0.         0.\n",
            "  0.         0.         0.14656425 0.18166261 0.         0.\n",
            "  0.         0.         0.         0.         0.         0.\n",
            "  0.         0.         0.         0.         0.         0.18166261\n",
            "  0.         0.         0.         0.18166261 0.         0.\n",
            "  0.         0.18166261]\n",
            " [0.         0.15091783 0.         0.         0.         0.\n",
            "  0.15091783 0.         0.15091783 0.15091783 0.         0.\n",
            "  0.         0.         0.         0.         0.         0.\n",
            "  0.         0.         0.         0.         0.30183566 0.15091783\n",
            "  0.         0.         0.         0.         0.         0.15091783\n",
            "  0.15091783 0.15091783 0.         0.15091783 0.         0.\n",
            "  0.         0.         0.12175956 0.         0.         0.\n",
            "  0.15091783 0.15091783 0.15091783 0.         0.         0.\n",
            "  0.15091783 0.         0.         0.24351911 0.         0.\n",
            "  0.15091783 0.         0.15091783 0.         0.15091783 0.\n",
            "  0.         0.         0.15091783 0.         0.         0.\n",
            "  0.         0.         0.         0.         0.         0.\n",
            "  0.15091783 0.15091783 0.         0.         0.15091783 0.\n",
            "  0.         0.         0.15091783 0.         0.         0.\n",
            "  0.30183566 0.15091783 0.         0.         0.         0.\n",
            "  0.         0.         0.15091783 0.         0.         0.15091783\n",
            "  0.         0.         0.         0.         0.         0.\n",
            "  0.         0.         0.         0.         0.         0.\n",
            "  0.         0.         0.12175956 0.         0.15091783 0.15091783\n",
            "  0.15091783 0.         0.         0.15091783 0.         0.\n",
            "  0.         0.         0.15091783 0.15091783 0.15091783 0.\n",
            "  0.15091783 0.         0.         0.         0.         0.\n",
            "  0.         0.        ]]\n"
          ]
        }
      ],
      "source": [
        "from sklearn.feature_extraction.text import CountVectorizer\n",
        "from sklearn.feature_extraction.text import TfidfVectorizer\n",
        "\n",
        "\n",
        "vectorizer = TfidfVectorizer(lowercase=True, stop_words=stop_words)\n",
        "\n",
        "X = vectorizer.fit_transform(dados_combinados)\n",
        "\n",
        "# vectorizer = CountVectorizer(lowercase=True, stop_words=stop_words)\n",
        "\n",
        "# X = vectorizer.fit_transform(dados_combinados)\n",
        "\n",
        "# print(\"Corpus\")   \n",
        "# print(vectorizer.get_feature_names_out())\n",
        "\n",
        "# vetorização\n",
        "print(\"\\nMatriz Bag of Words:\")\n",
        "print(X.toarray())"
      ]
    },
    {
      "cell_type": "markdown",
      "metadata": {
        "id": "uWJTPmUDe1vY"
      },
      "source": [
        "### Cálculo da similaridade"
      ]
    },
    {
      "cell_type": "code",
      "execution_count": 129,
      "metadata": {
        "id": "mqjPIYMKaC2Z"
      },
      "outputs": [
        {
          "name": "stdout",
          "output_type": "stream",
          "text": [
            "                           Matrix   Titanic   Top Gun  Se beber não case  \\\n",
            "Matrix                   1.000000  0.069537  0.027618           0.000000   \n",
            "Titanic                  0.069537  1.000000  0.000000           0.000000   \n",
            "Top Gun                  0.027618  0.000000  1.000000           0.019626   \n",
            "Se beber não case        0.000000  0.000000  0.019626           1.000000   \n",
            "A procura da felicidade  0.000000  0.061577  0.000000           0.017846   \n",
            "\n",
            "                         A procura da felicidade  \n",
            "Matrix                                  0.000000  \n",
            "Titanic                                 0.061577  \n",
            "Top Gun                                 0.000000  \n",
            "Se beber não case                       0.017846  \n",
            "A procura da felicidade                 1.000000  \n"
          ]
        },
        {
          "data": {
            "text/plain": [
              "11"
            ]
          },
          "execution_count": 129,
          "metadata": {},
          "output_type": "execute_result"
        }
      ],
      "source": [
        "from sklearn.metrics.pairwise import cosine_similarity\n",
        "import pandas as pd\n",
        "\n",
        "similaridade = cosine_similarity(X)\n",
        "\n",
        "similaridade_df = pd.DataFrame(similaridade, index=titulos, columns=titulos)\n",
        "print(similaridade_df)\n",
        "11"
      ]
    },
    {
      "cell_type": "markdown",
      "metadata": {
        "id": "nBez21RSfYEh"
      },
      "source": [
        "### Recomendação"
      ]
    },
    {
      "cell_type": "code",
      "execution_count": 130,
      "metadata": {
        "colab": {
          "base_uri": "https://localhost:8080/"
        },
        "id": "p9_pXUgZaXlz",
        "outputId": "134fcc07-0e8c-4c08-979b-0f91cbff6aeb"
      },
      "outputs": [
        {
          "name": "stdout",
          "output_type": "stream",
          "text": [
            "Recomendações para 'Matrix': ['Titanic', 'Top Gun']\n"
          ]
        }
      ],
      "source": [
        "def recomendar(filme_titulo, similaridade_matrix, titulos, top_n=2):\n",
        "    idx = titulos.index(filme_titulo)\n",
        "\n",
        "    similaridades = list(enumerate(similaridade_matrix[idx]))\n",
        "\n",
        "    similaridades = sorted(similaridades, key=lambda x: x[1], reverse=True)[1:top_n+1]\n",
        "\n",
        "    recomendacoes = [titulos[i[0]] for i in similaridades]\n",
        "    return recomendacoes\n",
        "\n",
        "recomendacoes = recomendar(\"Matrix\", similaridade, titulos)\n",
        "print(f\"Recomendações para 'Matrix': {recomendacoes}\")\n"
      ]
    }
  ],
  "metadata": {
    "colab": {
      "provenance": []
    },
    "kernelspec": {
      "display_name": "Python 3",
      "name": "python3"
    },
    "language_info": {
      "codemirror_mode": {
        "name": "ipython",
        "version": 3
      },
      "file_extension": ".py",
      "mimetype": "text/x-python",
      "name": "python",
      "nbconvert_exporter": "python",
      "pygments_lexer": "ipython3",
      "version": "3.12.1"
    }
  },
  "nbformat": 4,
  "nbformat_minor": 0
}
